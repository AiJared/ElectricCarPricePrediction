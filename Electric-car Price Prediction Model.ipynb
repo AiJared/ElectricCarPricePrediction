{
 "cells": [
  {
   "cell_type": "markdown",
   "id": "2f8e227e",
   "metadata": {},
   "source": [
    "# Electric-Car Price Prediction Model"
   ]
  },
  {
   "cell_type": "code",
   "execution_count": 1,
   "id": "a1732a35",
   "metadata": {},
   "outputs": [],
   "source": [
    "import pandas as pd\n",
    "import numpy as np\n",
    "import matplotlib.pyplot as plt"
   ]
  },
  {
   "cell_type": "markdown",
   "id": "9816e338",
   "metadata": {},
   "source": [
    "## Data Preparation"
   ]
  },
  {
   "cell_type": "code",
   "execution_count": 18,
   "id": "db480e16",
   "metadata": {},
   "outputs": [
    {
     "data": {
      "text/html": [
       "<div>\n",
       "<style scoped>\n",
       "    .dataframe tbody tr th:only-of-type {\n",
       "        vertical-align: middle;\n",
       "    }\n",
       "\n",
       "    .dataframe tbody tr th {\n",
       "        vertical-align: top;\n",
       "    }\n",
       "\n",
       "    .dataframe thead th {\n",
       "        text-align: right;\n",
       "    }\n",
       "</style>\n",
       "<table border=\"1\" class=\"dataframe\">\n",
       "  <thead>\n",
       "    <tr style=\"text-align: right;\">\n",
       "      <th></th>\n",
       "      <th>Year</th>\n",
       "      <th>BEV average price (USD)</th>\n",
       "      <th>Global Sales Volume</th>\n",
       "      <th>Mileage (Km)</th>\n",
       "      <th>Lithium Ion Battery Price (USD)</th>\n",
       "      <th>Average price of new car</th>\n",
       "    </tr>\n",
       "  </thead>\n",
       "  <tbody>\n",
       "    <tr>\n",
       "      <th>0</th>\n",
       "      <td>2010</td>\n",
       "      <td>64032</td>\n",
       "      <td>50000.0</td>\n",
       "      <td>127</td>\n",
       "      <td>1191</td>\n",
       "      <td>37500</td>\n",
       "    </tr>\n",
       "    <tr>\n",
       "      <th>1</th>\n",
       "      <td>2011</td>\n",
       "      <td>51736</td>\n",
       "      <td>60000.0</td>\n",
       "      <td>139</td>\n",
       "      <td>924</td>\n",
       "      <td>37311</td>\n",
       "    </tr>\n",
       "    <tr>\n",
       "      <th>2</th>\n",
       "      <td>2012</td>\n",
       "      <td>52084</td>\n",
       "      <td>80000.0</td>\n",
       "      <td>160</td>\n",
       "      <td>726</td>\n",
       "      <td>36874</td>\n",
       "    </tr>\n",
       "    <tr>\n",
       "      <th>3</th>\n",
       "      <td>2013</td>\n",
       "      <td>56028</td>\n",
       "      <td>150000.0</td>\n",
       "      <td>189</td>\n",
       "      <td>668</td>\n",
       "      <td>37826</td>\n",
       "    </tr>\n",
       "    <tr>\n",
       "      <th>4</th>\n",
       "      <td>2014</td>\n",
       "      <td>44776</td>\n",
       "      <td>224700.0</td>\n",
       "      <td>210</td>\n",
       "      <td>592</td>\n",
       "      <td>37519</td>\n",
       "    </tr>\n",
       "    <tr>\n",
       "      <th>5</th>\n",
       "      <td>2015</td>\n",
       "      <td>42340</td>\n",
       "      <td>380100.0</td>\n",
       "      <td>211</td>\n",
       "      <td>384</td>\n",
       "      <td>38240</td>\n",
       "    </tr>\n",
       "    <tr>\n",
       "      <th>6</th>\n",
       "      <td>2016</td>\n",
       "      <td>46284</td>\n",
       "      <td>506880.0</td>\n",
       "      <td>233</td>\n",
       "      <td>295</td>\n",
       "      <td>38455</td>\n",
       "    </tr>\n",
       "    <tr>\n",
       "      <th>7</th>\n",
       "      <td>2017</td>\n",
       "      <td>44776</td>\n",
       "      <td>846210.0</td>\n",
       "      <td>267</td>\n",
       "      <td>221</td>\n",
       "      <td>38350</td>\n",
       "    </tr>\n",
       "    <tr>\n",
       "      <th>8</th>\n",
       "      <td>2018</td>\n",
       "      <td>41412</td>\n",
       "      <td>1436580.0</td>\n",
       "      <td>304</td>\n",
       "      <td>181</td>\n",
       "      <td>38365</td>\n",
       "    </tr>\n",
       "    <tr>\n",
       "      <th>9</th>\n",
       "      <td>2019</td>\n",
       "      <td>42804</td>\n",
       "      <td>1708500.0</td>\n",
       "      <td>336</td>\n",
       "      <td>157</td>\n",
       "      <td>40546</td>\n",
       "    </tr>\n",
       "    <tr>\n",
       "      <th>10</th>\n",
       "      <td>2020</td>\n",
       "      <td>54600</td>\n",
       "      <td>2268000.0</td>\n",
       "      <td>338</td>\n",
       "      <td>137</td>\n",
       "      <td>44021</td>\n",
       "    </tr>\n",
       "    <tr>\n",
       "      <th>11</th>\n",
       "      <td>2021</td>\n",
       "      <td>52900</td>\n",
       "      <td>4792500.0</td>\n",
       "      <td>349</td>\n",
       "      <td>132</td>\n",
       "      <td>49185</td>\n",
       "    </tr>\n",
       "    <tr>\n",
       "      <th>12</th>\n",
       "      <td>2022</td>\n",
       "      <td>67000</td>\n",
       "      <td>NaN</td>\n",
       "      <td>400</td>\n",
       "      <td>135</td>\n",
       "      <td>48000</td>\n",
       "    </tr>\n",
       "  </tbody>\n",
       "</table>\n",
       "</div>"
      ],
      "text/plain": [
       "    Year  BEV average price (USD)  Global Sales Volume  Mileage (Km)  \\\n",
       "0   2010                    64032              50000.0           127   \n",
       "1   2011                    51736              60000.0           139   \n",
       "2   2012                    52084              80000.0           160   \n",
       "3   2013                    56028             150000.0           189   \n",
       "4   2014                    44776             224700.0           210   \n",
       "5   2015                    42340             380100.0           211   \n",
       "6   2016                    46284             506880.0           233   \n",
       "7   2017                    44776             846210.0           267   \n",
       "8   2018                    41412            1436580.0           304   \n",
       "9   2019                    42804            1708500.0           336   \n",
       "10  2020                    54600            2268000.0           338   \n",
       "11  2021                    52900            4792500.0           349   \n",
       "12  2022                    67000                  NaN           400   \n",
       "\n",
       "    Lithium Ion Battery Price (USD)   Average price of new car  \n",
       "0                              1191                      37500  \n",
       "1                               924                      37311  \n",
       "2                               726                      36874  \n",
       "3                               668                      37826  \n",
       "4                               592                      37519  \n",
       "5                               384                      38240  \n",
       "6                               295                      38455  \n",
       "7                               221                      38350  \n",
       "8                               181                      38365  \n",
       "9                               157                      40546  \n",
       "10                              137                      44021  \n",
       "11                              132                      49185  \n",
       "12                              135                      48000  "
      ]
     },
     "execution_count": 18,
     "metadata": {},
     "output_type": "execute_result"
    }
   ],
   "source": [
    "# create a Data Frame\n",
    "dataset = pd.read_csv(\"Electric cars.csv\")\n",
    "df = pd.DataFrame(dataset)\n",
    "df"
   ]
  },
  {
   "cell_type": "code",
   "execution_count": 19,
   "id": "d76c55f8",
   "metadata": {},
   "outputs": [
    {
     "data": {
      "text/html": [
       "<div>\n",
       "<style scoped>\n",
       "    .dataframe tbody tr th:only-of-type {\n",
       "        vertical-align: middle;\n",
       "    }\n",
       "\n",
       "    .dataframe tbody tr th {\n",
       "        vertical-align: top;\n",
       "    }\n",
       "\n",
       "    .dataframe thead th {\n",
       "        text-align: right;\n",
       "    }\n",
       "</style>\n",
       "<table border=\"1\" class=\"dataframe\">\n",
       "  <thead>\n",
       "    <tr style=\"text-align: right;\">\n",
       "      <th></th>\n",
       "      <th>year</th>\n",
       "      <th>bev_average_price_(usd)</th>\n",
       "      <th>global_sales_volume</th>\n",
       "      <th>mileage_(km)</th>\n",
       "      <th>lithium_ion_battery_price_(usd)</th>\n",
       "      <th>_average_price_of_new_car</th>\n",
       "    </tr>\n",
       "  </thead>\n",
       "  <tbody>\n",
       "    <tr>\n",
       "      <th>0</th>\n",
       "      <td>2010</td>\n",
       "      <td>64032</td>\n",
       "      <td>50000.0</td>\n",
       "      <td>127</td>\n",
       "      <td>1191</td>\n",
       "      <td>37500</td>\n",
       "    </tr>\n",
       "    <tr>\n",
       "      <th>1</th>\n",
       "      <td>2011</td>\n",
       "      <td>51736</td>\n",
       "      <td>60000.0</td>\n",
       "      <td>139</td>\n",
       "      <td>924</td>\n",
       "      <td>37311</td>\n",
       "    </tr>\n",
       "    <tr>\n",
       "      <th>2</th>\n",
       "      <td>2012</td>\n",
       "      <td>52084</td>\n",
       "      <td>80000.0</td>\n",
       "      <td>160</td>\n",
       "      <td>726</td>\n",
       "      <td>36874</td>\n",
       "    </tr>\n",
       "    <tr>\n",
       "      <th>3</th>\n",
       "      <td>2013</td>\n",
       "      <td>56028</td>\n",
       "      <td>150000.0</td>\n",
       "      <td>189</td>\n",
       "      <td>668</td>\n",
       "      <td>37826</td>\n",
       "    </tr>\n",
       "    <tr>\n",
       "      <th>4</th>\n",
       "      <td>2014</td>\n",
       "      <td>44776</td>\n",
       "      <td>224700.0</td>\n",
       "      <td>210</td>\n",
       "      <td>592</td>\n",
       "      <td>37519</td>\n",
       "    </tr>\n",
       "    <tr>\n",
       "      <th>5</th>\n",
       "      <td>2015</td>\n",
       "      <td>42340</td>\n",
       "      <td>380100.0</td>\n",
       "      <td>211</td>\n",
       "      <td>384</td>\n",
       "      <td>38240</td>\n",
       "    </tr>\n",
       "    <tr>\n",
       "      <th>6</th>\n",
       "      <td>2016</td>\n",
       "      <td>46284</td>\n",
       "      <td>506880.0</td>\n",
       "      <td>233</td>\n",
       "      <td>295</td>\n",
       "      <td>38455</td>\n",
       "    </tr>\n",
       "    <tr>\n",
       "      <th>7</th>\n",
       "      <td>2017</td>\n",
       "      <td>44776</td>\n",
       "      <td>846210.0</td>\n",
       "      <td>267</td>\n",
       "      <td>221</td>\n",
       "      <td>38350</td>\n",
       "    </tr>\n",
       "    <tr>\n",
       "      <th>8</th>\n",
       "      <td>2018</td>\n",
       "      <td>41412</td>\n",
       "      <td>1436580.0</td>\n",
       "      <td>304</td>\n",
       "      <td>181</td>\n",
       "      <td>38365</td>\n",
       "    </tr>\n",
       "    <tr>\n",
       "      <th>9</th>\n",
       "      <td>2019</td>\n",
       "      <td>42804</td>\n",
       "      <td>1708500.0</td>\n",
       "      <td>336</td>\n",
       "      <td>157</td>\n",
       "      <td>40546</td>\n",
       "    </tr>\n",
       "    <tr>\n",
       "      <th>10</th>\n",
       "      <td>2020</td>\n",
       "      <td>54600</td>\n",
       "      <td>2268000.0</td>\n",
       "      <td>338</td>\n",
       "      <td>137</td>\n",
       "      <td>44021</td>\n",
       "    </tr>\n",
       "    <tr>\n",
       "      <th>11</th>\n",
       "      <td>2021</td>\n",
       "      <td>52900</td>\n",
       "      <td>4792500.0</td>\n",
       "      <td>349</td>\n",
       "      <td>132</td>\n",
       "      <td>49185</td>\n",
       "    </tr>\n",
       "    <tr>\n",
       "      <th>12</th>\n",
       "      <td>2022</td>\n",
       "      <td>67000</td>\n",
       "      <td>NaN</td>\n",
       "      <td>400</td>\n",
       "      <td>135</td>\n",
       "      <td>48000</td>\n",
       "    </tr>\n",
       "  </tbody>\n",
       "</table>\n",
       "</div>"
      ],
      "text/plain": [
       "    year  bev_average_price_(usd)  global_sales_volume  mileage_(km)  \\\n",
       "0   2010                    64032              50000.0           127   \n",
       "1   2011                    51736              60000.0           139   \n",
       "2   2012                    52084              80000.0           160   \n",
       "3   2013                    56028             150000.0           189   \n",
       "4   2014                    44776             224700.0           210   \n",
       "5   2015                    42340             380100.0           211   \n",
       "6   2016                    46284             506880.0           233   \n",
       "7   2017                    44776             846210.0           267   \n",
       "8   2018                    41412            1436580.0           304   \n",
       "9   2019                    42804            1708500.0           336   \n",
       "10  2020                    54600            2268000.0           338   \n",
       "11  2021                    52900            4792500.0           349   \n",
       "12  2022                    67000                  NaN           400   \n",
       "\n",
       "    lithium_ion_battery_price_(usd)  _average_price_of_new_car  \n",
       "0                              1191                      37500  \n",
       "1                               924                      37311  \n",
       "2                               726                      36874  \n",
       "3                               668                      37826  \n",
       "4                               592                      37519  \n",
       "5                               384                      38240  \n",
       "6                               295                      38455  \n",
       "7                               221                      38350  \n",
       "8                               181                      38365  \n",
       "9                               157                      40546  \n",
       "10                              137                      44021  \n",
       "11                              132                      49185  \n",
       "12                              135                      48000  "
      ]
     },
     "execution_count": 19,
     "metadata": {},
     "output_type": "execute_result"
    }
   ],
   "source": [
    "# make columns uniform by setting them all to lowercase letters and replacing spaces with underscores\n",
    "df.columns = df.columns.str.lower().str.replace(\" \", \"_\")\n",
    "df"
   ]
  },
  {
   "cell_type": "code",
   "execution_count": 20,
   "id": "c49a2f18",
   "metadata": {},
   "outputs": [
    {
     "data": {
      "text/plain": [
       "[]"
      ]
     },
     "execution_count": 20,
     "metadata": {},
     "output_type": "execute_result"
    }
   ],
   "source": [
    "# list of all columns whose values are objects\n",
    "strings = list(df.dtypes[df.dtypes == \"object\"].index)\n",
    "strings"
   ]
  },
  {
   "cell_type": "markdown",
   "id": "1b9ffdf7",
   "metadata": {},
   "source": [
    "No object data type column"
   ]
  },
  {
   "cell_type": "code",
   "execution_count": 21,
   "id": "78a4914a",
   "metadata": {},
   "outputs": [
    {
     "data": {
      "text/html": [
       "<div>\n",
       "<style scoped>\n",
       "    .dataframe tbody tr th:only-of-type {\n",
       "        vertical-align: middle;\n",
       "    }\n",
       "\n",
       "    .dataframe tbody tr th {\n",
       "        vertical-align: top;\n",
       "    }\n",
       "\n",
       "    .dataframe thead th {\n",
       "        text-align: right;\n",
       "    }\n",
       "</style>\n",
       "<table border=\"1\" class=\"dataframe\">\n",
       "  <thead>\n",
       "    <tr style=\"text-align: right;\">\n",
       "      <th></th>\n",
       "      <th>year</th>\n",
       "      <th>bev_average_price_(usd)</th>\n",
       "      <th>global_sales_volume</th>\n",
       "      <th>mileage_(km)</th>\n",
       "      <th>lithium_ion_battery_price_(usd)</th>\n",
       "      <th>_average_price_of_new_car</th>\n",
       "    </tr>\n",
       "  </thead>\n",
       "  <tbody>\n",
       "    <tr>\n",
       "      <th>0</th>\n",
       "      <td>2010</td>\n",
       "      <td>64032</td>\n",
       "      <td>50000.0</td>\n",
       "      <td>127</td>\n",
       "      <td>1191</td>\n",
       "      <td>37500</td>\n",
       "    </tr>\n",
       "    <tr>\n",
       "      <th>1</th>\n",
       "      <td>2011</td>\n",
       "      <td>51736</td>\n",
       "      <td>60000.0</td>\n",
       "      <td>139</td>\n",
       "      <td>924</td>\n",
       "      <td>37311</td>\n",
       "    </tr>\n",
       "    <tr>\n",
       "      <th>2</th>\n",
       "      <td>2012</td>\n",
       "      <td>52084</td>\n",
       "      <td>80000.0</td>\n",
       "      <td>160</td>\n",
       "      <td>726</td>\n",
       "      <td>36874</td>\n",
       "    </tr>\n",
       "    <tr>\n",
       "      <th>3</th>\n",
       "      <td>2013</td>\n",
       "      <td>56028</td>\n",
       "      <td>150000.0</td>\n",
       "      <td>189</td>\n",
       "      <td>668</td>\n",
       "      <td>37826</td>\n",
       "    </tr>\n",
       "    <tr>\n",
       "      <th>4</th>\n",
       "      <td>2014</td>\n",
       "      <td>44776</td>\n",
       "      <td>224700.0</td>\n",
       "      <td>210</td>\n",
       "      <td>592</td>\n",
       "      <td>37519</td>\n",
       "    </tr>\n",
       "  </tbody>\n",
       "</table>\n",
       "</div>"
      ],
      "text/plain": [
       "   year  bev_average_price_(usd)  global_sales_volume  mileage_(km)  \\\n",
       "0  2010                    64032              50000.0           127   \n",
       "1  2011                    51736              60000.0           139   \n",
       "2  2012                    52084              80000.0           160   \n",
       "3  2013                    56028             150000.0           189   \n",
       "4  2014                    44776             224700.0           210   \n",
       "\n",
       "   lithium_ion_battery_price_(usd)  _average_price_of_new_car  \n",
       "0                             1191                      37500  \n",
       "1                              924                      37311  \n",
       "2                              726                      36874  \n",
       "3                              668                      37826  \n",
       "4                              592                      37519  "
      ]
     },
     "execution_count": 21,
     "metadata": {},
     "output_type": "execute_result"
    }
   ],
   "source": [
    "# nicely prepared data frame\n",
    "df.head()"
   ]
  },
  {
   "cell_type": "markdown",
   "id": "e3454ea5",
   "metadata": {},
   "source": [
    "## Exploratory Data Analysis"
   ]
  },
  {
   "cell_type": "code",
   "execution_count": 23,
   "id": "add36660",
   "metadata": {},
   "outputs": [
    {
     "name": "stdout",
     "output_type": "stream",
     "text": [
      "year\n",
      "[2010 2011 2012 2013 2014]\n",
      "13\n",
      "bev_average_price_(usd)\n",
      "[64032 51736 52084 56028 44776]\n",
      "12\n",
      "global_sales_volume\n",
      "[ 50000.  60000.  80000. 150000. 224700.]\n",
      "12\n",
      "mileage_(km)\n",
      "[127 139 160 189 210]\n",
      "13\n",
      "lithium_ion_battery_price_(usd)\n",
      "[1191  924  726  668  592]\n",
      "13\n",
      "_average_price_of_new_car\n",
      "[37500 37311 36874 37826 37519]\n",
      "13\n"
     ]
    }
   ],
   "source": [
    "# check for some information about the dataset such as unique values, number of unique values per column e.t.c.\n",
    "for col in df.columns:\n",
    "    print(col)\n",
    "    print(df[col].unique()[:5])\n",
    "    print(df[col].nunique())"
   ]
  },
  {
   "cell_type": "markdown",
   "id": "3689d140",
   "metadata": {},
   "source": [
    "## X and y values"
   ]
  },
  {
   "cell_type": "code",
   "execution_count": 4,
   "id": "80f703e4",
   "metadata": {},
   "outputs": [],
   "source": [
    "dataset = dataset.dropna(axis=0)"
   ]
  },
  {
   "cell_type": "code",
   "execution_count": 5,
   "id": "76014f20",
   "metadata": {},
   "outputs": [
    {
     "name": "stdout",
     "output_type": "stream",
     "text": [
      "<class 'pandas.core.frame.DataFrame'>\n",
      "Int64Index: 12 entries, 0 to 11\n",
      "Data columns (total 6 columns):\n",
      " #   Column                           Non-Null Count  Dtype  \n",
      "---  ------                           --------------  -----  \n",
      " 0   Year                             12 non-null     int64  \n",
      " 1   BEV average price (USD)          12 non-null     int64  \n",
      " 2   Global Sales Volume              12 non-null     float64\n",
      " 3   Mileage (Km)                     12 non-null     int64  \n",
      " 4   Lithium Ion Battery Price (USD)  12 non-null     int64  \n",
      " 5    Average price of new car        12 non-null     int64  \n",
      "dtypes: float64(1), int64(5)\n",
      "memory usage: 672.0 bytes\n"
     ]
    }
   ],
   "source": [
    "dataset.info()"
   ]
  },
  {
   "cell_type": "code",
   "execution_count": 6,
   "id": "c8181ec3",
   "metadata": {},
   "outputs": [],
   "source": [
    "X = dataset.iloc[:, :5].values\n",
    "y = dataset.iloc[:, 5].values"
   ]
  },
  {
   "cell_type": "code",
   "execution_count": 7,
   "id": "32211c83",
   "metadata": {},
   "outputs": [
    {
     "data": {
      "text/plain": [
       "array([[2.01000e+03, 6.40320e+04, 5.00000e+04, 1.27000e+02, 1.19100e+03],\n",
       "       [2.01100e+03, 5.17360e+04, 6.00000e+04, 1.39000e+02, 9.24000e+02],\n",
       "       [2.01200e+03, 5.20840e+04, 8.00000e+04, 1.60000e+02, 7.26000e+02],\n",
       "       [2.01300e+03, 5.60280e+04, 1.50000e+05, 1.89000e+02, 6.68000e+02],\n",
       "       [2.01400e+03, 4.47760e+04, 2.24700e+05, 2.10000e+02, 5.92000e+02],\n",
       "       [2.01500e+03, 4.23400e+04, 3.80100e+05, 2.11000e+02, 3.84000e+02],\n",
       "       [2.01600e+03, 4.62840e+04, 5.06880e+05, 2.33000e+02, 2.95000e+02],\n",
       "       [2.01700e+03, 4.47760e+04, 8.46210e+05, 2.67000e+02, 2.21000e+02],\n",
       "       [2.01800e+03, 4.14120e+04, 1.43658e+06, 3.04000e+02, 1.81000e+02],\n",
       "       [2.01900e+03, 4.28040e+04, 1.70850e+06, 3.36000e+02, 1.57000e+02],\n",
       "       [2.02000e+03, 5.46000e+04, 2.26800e+06, 3.38000e+02, 1.37000e+02],\n",
       "       [2.02100e+03, 5.29000e+04, 4.79250e+06, 3.49000e+02, 1.32000e+02]])"
      ]
     },
     "execution_count": 7,
     "metadata": {},
     "output_type": "execute_result"
    }
   ],
   "source": [
    "X"
   ]
  },
  {
   "cell_type": "code",
   "execution_count": 8,
   "id": "d31b854c",
   "metadata": {},
   "outputs": [
    {
     "data": {
      "text/plain": [
       "array([37500, 37311, 36874, 37826, 37519, 38240, 38455, 38350, 38365,\n",
       "       40546, 44021, 49185], dtype=int64)"
      ]
     },
     "execution_count": 8,
     "metadata": {},
     "output_type": "execute_result"
    }
   ],
   "source": [
    "y"
   ]
  },
  {
   "cell_type": "markdown",
   "id": "ff95f25e",
   "metadata": {},
   "source": [
    "## Splitting the dataset"
   ]
  },
  {
   "cell_type": "code",
   "execution_count": 9,
   "id": "5499fa9b",
   "metadata": {},
   "outputs": [],
   "source": [
    "from sklearn.model_selection import train_test_split\n",
    "X_train, X_test, y_train, y_test = train_test_split(X, y, test_size=0.2, random_state=0)"
   ]
  },
  {
   "cell_type": "markdown",
   "id": "612bda00",
   "metadata": {},
   "source": [
    "## Fitting MLR in our model"
   ]
  },
  {
   "cell_type": "code",
   "execution_count": 10,
   "id": "c8910023",
   "metadata": {},
   "outputs": [
    {
     "data": {
      "text/html": [
       "<style>#sk-container-id-1 {color: black;background-color: white;}#sk-container-id-1 pre{padding: 0;}#sk-container-id-1 div.sk-toggleable {background-color: white;}#sk-container-id-1 label.sk-toggleable__label {cursor: pointer;display: block;width: 100%;margin-bottom: 0;padding: 0.3em;box-sizing: border-box;text-align: center;}#sk-container-id-1 label.sk-toggleable__label-arrow:before {content: \"▸\";float: left;margin-right: 0.25em;color: #696969;}#sk-container-id-1 label.sk-toggleable__label-arrow:hover:before {color: black;}#sk-container-id-1 div.sk-estimator:hover label.sk-toggleable__label-arrow:before {color: black;}#sk-container-id-1 div.sk-toggleable__content {max-height: 0;max-width: 0;overflow: hidden;text-align: left;background-color: #f0f8ff;}#sk-container-id-1 div.sk-toggleable__content pre {margin: 0.2em;color: black;border-radius: 0.25em;background-color: #f0f8ff;}#sk-container-id-1 input.sk-toggleable__control:checked~div.sk-toggleable__content {max-height: 200px;max-width: 100%;overflow: auto;}#sk-container-id-1 input.sk-toggleable__control:checked~label.sk-toggleable__label-arrow:before {content: \"▾\";}#sk-container-id-1 div.sk-estimator input.sk-toggleable__control:checked~label.sk-toggleable__label {background-color: #d4ebff;}#sk-container-id-1 div.sk-label input.sk-toggleable__control:checked~label.sk-toggleable__label {background-color: #d4ebff;}#sk-container-id-1 input.sk-hidden--visually {border: 0;clip: rect(1px 1px 1px 1px);clip: rect(1px, 1px, 1px, 1px);height: 1px;margin: -1px;overflow: hidden;padding: 0;position: absolute;width: 1px;}#sk-container-id-1 div.sk-estimator {font-family: monospace;background-color: #f0f8ff;border: 1px dotted black;border-radius: 0.25em;box-sizing: border-box;margin-bottom: 0.5em;}#sk-container-id-1 div.sk-estimator:hover {background-color: #d4ebff;}#sk-container-id-1 div.sk-parallel-item::after {content: \"\";width: 100%;border-bottom: 1px solid gray;flex-grow: 1;}#sk-container-id-1 div.sk-label:hover label.sk-toggleable__label {background-color: #d4ebff;}#sk-container-id-1 div.sk-serial::before {content: \"\";position: absolute;border-left: 1px solid gray;box-sizing: border-box;top: 0;bottom: 0;left: 50%;z-index: 0;}#sk-container-id-1 div.sk-serial {display: flex;flex-direction: column;align-items: center;background-color: white;padding-right: 0.2em;padding-left: 0.2em;position: relative;}#sk-container-id-1 div.sk-item {position: relative;z-index: 1;}#sk-container-id-1 div.sk-parallel {display: flex;align-items: stretch;justify-content: center;background-color: white;position: relative;}#sk-container-id-1 div.sk-item::before, #sk-container-id-1 div.sk-parallel-item::before {content: \"\";position: absolute;border-left: 1px solid gray;box-sizing: border-box;top: 0;bottom: 0;left: 50%;z-index: -1;}#sk-container-id-1 div.sk-parallel-item {display: flex;flex-direction: column;z-index: 1;position: relative;background-color: white;}#sk-container-id-1 div.sk-parallel-item:first-child::after {align-self: flex-end;width: 50%;}#sk-container-id-1 div.sk-parallel-item:last-child::after {align-self: flex-start;width: 50%;}#sk-container-id-1 div.sk-parallel-item:only-child::after {width: 0;}#sk-container-id-1 div.sk-dashed-wrapped {border: 1px dashed gray;margin: 0 0.4em 0.5em 0.4em;box-sizing: border-box;padding-bottom: 0.4em;background-color: white;}#sk-container-id-1 div.sk-label label {font-family: monospace;font-weight: bold;display: inline-block;line-height: 1.2em;}#sk-container-id-1 div.sk-label-container {text-align: center;}#sk-container-id-1 div.sk-container {/* jupyter's `normalize.less` sets `[hidden] { display: none; }` but bootstrap.min.css set `[hidden] { display: none !important; }` so we also need the `!important` here to be able to override the default hidden behavior on the sphinx rendered scikit-learn.org. See: https://github.com/scikit-learn/scikit-learn/issues/21755 */display: inline-block !important;position: relative;}#sk-container-id-1 div.sk-text-repr-fallback {display: none;}</style><div id=\"sk-container-id-1\" class=\"sk-top-container\"><div class=\"sk-text-repr-fallback\"><pre>LinearRegression()</pre><b>In a Jupyter environment, please rerun this cell to show the HTML representation or trust the notebook. <br />On GitHub, the HTML representation is unable to render, please try loading this page with nbviewer.org.</b></div><div class=\"sk-container\" hidden><div class=\"sk-item\"><div class=\"sk-estimator sk-toggleable\"><input class=\"sk-toggleable__control sk-hidden--visually\" id=\"sk-estimator-id-1\" type=\"checkbox\" checked><label for=\"sk-estimator-id-1\" class=\"sk-toggleable__label sk-toggleable__label-arrow\">LinearRegression</label><div class=\"sk-toggleable__content\"><pre>LinearRegression()</pre></div></div></div></div></div>"
      ],
      "text/plain": [
       "LinearRegression()"
      ]
     },
     "execution_count": 10,
     "metadata": {},
     "output_type": "execute_result"
    }
   ],
   "source": [
    "from sklearn.linear_model import LinearRegression\n",
    "regressor = LinearRegression()\n",
    "regressor.fit(X_train, y_train)"
   ]
  },
  {
   "cell_type": "markdown",
   "id": "edb77a8f",
   "metadata": {},
   "source": [
    "## Make Prediction"
   ]
  },
  {
   "cell_type": "code",
   "execution_count": 11,
   "id": "237b874d",
   "metadata": {},
   "outputs": [
    {
     "data": {
      "text/plain": [
       "array([38821.5738429 , 49866.67577636, 36746.36740653])"
      ]
     },
     "execution_count": 11,
     "metadata": {},
     "output_type": "execute_result"
    }
   ],
   "source": [
    "prediction = regressor.predict(X_test)\n",
    "prediction"
   ]
  },
  {
   "cell_type": "code",
   "execution_count": 12,
   "id": "343a4e01",
   "metadata": {},
   "outputs": [
    {
     "name": "stdout",
     "output_type": "stream",
     "text": [
      "Train score:  0.9416130967641753\n",
      "Test score:  0.9857675790296068\n"
     ]
    }
   ],
   "source": [
    "print(\"Train score: \", regressor.score(X_train, y_train))\n",
    "print(\"Test score: \", regressor.score(X_test, y_test))"
   ]
  },
  {
   "cell_type": "markdown",
   "id": "2b083a38",
   "metadata": {},
   "source": [
    "## Predicting and outputing the prediction results using a given set of data"
   ]
  },
  {
   "cell_type": "code",
   "execution_count": 13,
   "id": "2528fbe7",
   "metadata": {},
   "outputs": [
    {
     "name": "stdout",
     "output_type": "stream",
     "text": [
      "[49866.67577636]\n"
     ]
    }
   ],
   "source": [
    "prediction = regressor.predict([[2021, 52900, 4792500.0, 349, 132]])\n",
    "print(prediction)"
   ]
  },
  {
   "cell_type": "code",
   "execution_count": null,
   "id": "631257fe",
   "metadata": {},
   "outputs": [],
   "source": []
  }
 ],
 "metadata": {
  "kernelspec": {
   "display_name": "Python 3 (ipykernel)",
   "language": "python",
   "name": "python3"
  },
  "language_info": {
   "codemirror_mode": {
    "name": "ipython",
    "version": 3
   },
   "file_extension": ".py",
   "mimetype": "text/x-python",
   "name": "python",
   "nbconvert_exporter": "python",
   "pygments_lexer": "ipython3",
   "version": "3.9.12"
  }
 },
 "nbformat": 4,
 "nbformat_minor": 5
}
