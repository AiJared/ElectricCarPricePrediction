{
 "cells": [
  {
   "cell_type": "markdown",
   "id": "2f8e227e",
   "metadata": {},
   "source": [
    "# Electric-Car Price Prediction Model"
   ]
  },
  {
   "cell_type": "code",
   "execution_count": 77,
   "id": "a1732a35",
   "metadata": {},
   "outputs": [],
   "source": [
    "import pandas as pd\n",
    "import numpy as np\n",
    "import matplotlib.pyplot as plt"
   ]
  },
  {
   "cell_type": "code",
   "execution_count": 78,
   "id": "db480e16",
   "metadata": {},
   "outputs": [
    {
     "data": {
      "text/html": [
       "<div>\n",
       "<style scoped>\n",
       "    .dataframe tbody tr th:only-of-type {\n",
       "        vertical-align: middle;\n",
       "    }\n",
       "\n",
       "    .dataframe tbody tr th {\n",
       "        vertical-align: top;\n",
       "    }\n",
       "\n",
       "    .dataframe thead th {\n",
       "        text-align: right;\n",
       "    }\n",
       "</style>\n",
       "<table border=\"1\" class=\"dataframe\">\n",
       "  <thead>\n",
       "    <tr style=\"text-align: right;\">\n",
       "      <th></th>\n",
       "      <th>Year</th>\n",
       "      <th>BEV average price (USD)</th>\n",
       "      <th>Global Sales Volume</th>\n",
       "      <th>Mileage (Km)</th>\n",
       "      <th>Lithium Ion Battery Price (USD)</th>\n",
       "      <th>Average price of new car</th>\n",
       "    </tr>\n",
       "  </thead>\n",
       "  <tbody>\n",
       "    <tr>\n",
       "      <th>0</th>\n",
       "      <td>2010</td>\n",
       "      <td>64032</td>\n",
       "      <td>50000.0</td>\n",
       "      <td>127</td>\n",
       "      <td>1191</td>\n",
       "      <td>37500</td>\n",
       "    </tr>\n",
       "    <tr>\n",
       "      <th>1</th>\n",
       "      <td>2011</td>\n",
       "      <td>51736</td>\n",
       "      <td>60000.0</td>\n",
       "      <td>139</td>\n",
       "      <td>924</td>\n",
       "      <td>37311</td>\n",
       "    </tr>\n",
       "    <tr>\n",
       "      <th>2</th>\n",
       "      <td>2012</td>\n",
       "      <td>52084</td>\n",
       "      <td>80000.0</td>\n",
       "      <td>160</td>\n",
       "      <td>726</td>\n",
       "      <td>36874</td>\n",
       "    </tr>\n",
       "    <tr>\n",
       "      <th>3</th>\n",
       "      <td>2013</td>\n",
       "      <td>56028</td>\n",
       "      <td>150000.0</td>\n",
       "      <td>189</td>\n",
       "      <td>668</td>\n",
       "      <td>37826</td>\n",
       "    </tr>\n",
       "    <tr>\n",
       "      <th>4</th>\n",
       "      <td>2014</td>\n",
       "      <td>44776</td>\n",
       "      <td>224700.0</td>\n",
       "      <td>210</td>\n",
       "      <td>592</td>\n",
       "      <td>37519</td>\n",
       "    </tr>\n",
       "    <tr>\n",
       "      <th>5</th>\n",
       "      <td>2015</td>\n",
       "      <td>42340</td>\n",
       "      <td>380100.0</td>\n",
       "      <td>211</td>\n",
       "      <td>384</td>\n",
       "      <td>38240</td>\n",
       "    </tr>\n",
       "    <tr>\n",
       "      <th>6</th>\n",
       "      <td>2016</td>\n",
       "      <td>46284</td>\n",
       "      <td>506880.0</td>\n",
       "      <td>233</td>\n",
       "      <td>295</td>\n",
       "      <td>38455</td>\n",
       "    </tr>\n",
       "    <tr>\n",
       "      <th>7</th>\n",
       "      <td>2017</td>\n",
       "      <td>44776</td>\n",
       "      <td>846210.0</td>\n",
       "      <td>267</td>\n",
       "      <td>221</td>\n",
       "      <td>38350</td>\n",
       "    </tr>\n",
       "    <tr>\n",
       "      <th>8</th>\n",
       "      <td>2018</td>\n",
       "      <td>41412</td>\n",
       "      <td>1436580.0</td>\n",
       "      <td>304</td>\n",
       "      <td>181</td>\n",
       "      <td>38365</td>\n",
       "    </tr>\n",
       "    <tr>\n",
       "      <th>9</th>\n",
       "      <td>2019</td>\n",
       "      <td>42804</td>\n",
       "      <td>1708500.0</td>\n",
       "      <td>336</td>\n",
       "      <td>157</td>\n",
       "      <td>40546</td>\n",
       "    </tr>\n",
       "    <tr>\n",
       "      <th>10</th>\n",
       "      <td>2020</td>\n",
       "      <td>54600</td>\n",
       "      <td>2268000.0</td>\n",
       "      <td>338</td>\n",
       "      <td>137</td>\n",
       "      <td>44021</td>\n",
       "    </tr>\n",
       "    <tr>\n",
       "      <th>11</th>\n",
       "      <td>2021</td>\n",
       "      <td>52900</td>\n",
       "      <td>4792500.0</td>\n",
       "      <td>349</td>\n",
       "      <td>132</td>\n",
       "      <td>49185</td>\n",
       "    </tr>\n",
       "    <tr>\n",
       "      <th>12</th>\n",
       "      <td>2022</td>\n",
       "      <td>67000</td>\n",
       "      <td>NaN</td>\n",
       "      <td>400</td>\n",
       "      <td>135</td>\n",
       "      <td>48000</td>\n",
       "    </tr>\n",
       "  </tbody>\n",
       "</table>\n",
       "</div>"
      ],
      "text/plain": [
       "    Year  BEV average price (USD)  Global Sales Volume  Mileage (Km)  \\\n",
       "0   2010                    64032              50000.0           127   \n",
       "1   2011                    51736              60000.0           139   \n",
       "2   2012                    52084              80000.0           160   \n",
       "3   2013                    56028             150000.0           189   \n",
       "4   2014                    44776             224700.0           210   \n",
       "5   2015                    42340             380100.0           211   \n",
       "6   2016                    46284             506880.0           233   \n",
       "7   2017                    44776             846210.0           267   \n",
       "8   2018                    41412            1436580.0           304   \n",
       "9   2019                    42804            1708500.0           336   \n",
       "10  2020                    54600            2268000.0           338   \n",
       "11  2021                    52900            4792500.0           349   \n",
       "12  2022                    67000                  NaN           400   \n",
       "\n",
       "    Lithium Ion Battery Price (USD)   Average price of new car  \n",
       "0                              1191                      37500  \n",
       "1                               924                      37311  \n",
       "2                               726                      36874  \n",
       "3                               668                      37826  \n",
       "4                               592                      37519  \n",
       "5                               384                      38240  \n",
       "6                               295                      38455  \n",
       "7                               221                      38350  \n",
       "8                               181                      38365  \n",
       "9                               157                      40546  \n",
       "10                              137                      44021  \n",
       "11                              132                      49185  \n",
       "12                              135                      48000  "
      ]
     },
     "execution_count": 78,
     "metadata": {},
     "output_type": "execute_result"
    }
   ],
   "source": [
    "dataset = pd.read_csv(\"Electric cars.csv\")\n",
    "dataset"
   ]
  },
  {
   "cell_type": "code",
   "execution_count": 79,
   "id": "3effe104",
   "metadata": {},
   "outputs": [
    {
     "name": "stdout",
     "output_type": "stream",
     "text": [
      "<class 'pandas.core.frame.DataFrame'>\n",
      "RangeIndex: 13 entries, 0 to 12\n",
      "Data columns (total 6 columns):\n",
      " #   Column                           Non-Null Count  Dtype  \n",
      "---  ------                           --------------  -----  \n",
      " 0   Year                             13 non-null     int64  \n",
      " 1   BEV average price (USD)          13 non-null     int64  \n",
      " 2   Global Sales Volume              12 non-null     float64\n",
      " 3   Mileage (Km)                     13 non-null     int64  \n",
      " 4   Lithium Ion Battery Price (USD)  13 non-null     int64  \n",
      " 5    Average price of new car        13 non-null     int64  \n",
      "dtypes: float64(1), int64(5)\n",
      "memory usage: 752.0 bytes\n"
     ]
    }
   ],
   "source": [
    "dataset.info()"
   ]
  },
  {
   "cell_type": "markdown",
   "id": "3689d140",
   "metadata": {},
   "source": [
    "## X and y values"
   ]
  },
  {
   "cell_type": "code",
   "execution_count": 80,
   "id": "80f703e4",
   "metadata": {},
   "outputs": [],
   "source": [
    "dataset = dataset.dropna(axis=0)"
   ]
  },
  {
   "cell_type": "code",
   "execution_count": 81,
   "id": "76014f20",
   "metadata": {},
   "outputs": [
    {
     "name": "stdout",
     "output_type": "stream",
     "text": [
      "<class 'pandas.core.frame.DataFrame'>\n",
      "Int64Index: 12 entries, 0 to 11\n",
      "Data columns (total 6 columns):\n",
      " #   Column                           Non-Null Count  Dtype  \n",
      "---  ------                           --------------  -----  \n",
      " 0   Year                             12 non-null     int64  \n",
      " 1   BEV average price (USD)          12 non-null     int64  \n",
      " 2   Global Sales Volume              12 non-null     float64\n",
      " 3   Mileage (Km)                     12 non-null     int64  \n",
      " 4   Lithium Ion Battery Price (USD)  12 non-null     int64  \n",
      " 5    Average price of new car        12 non-null     int64  \n",
      "dtypes: float64(1), int64(5)\n",
      "memory usage: 672.0 bytes\n"
     ]
    }
   ],
   "source": [
    "dataset.info()"
   ]
  },
  {
   "cell_type": "code",
   "execution_count": 82,
   "id": "c8181ec3",
   "metadata": {},
   "outputs": [],
   "source": [
    "X = dataset.iloc[:, :5].values\n",
    "y = dataset.iloc[:, 5].values"
   ]
  },
  {
   "cell_type": "code",
   "execution_count": 83,
   "id": "32211c83",
   "metadata": {},
   "outputs": [
    {
     "data": {
      "text/plain": [
       "array([[2.01000e+03, 6.40320e+04, 5.00000e+04, 1.27000e+02, 1.19100e+03],\n",
       "       [2.01100e+03, 5.17360e+04, 6.00000e+04, 1.39000e+02, 9.24000e+02],\n",
       "       [2.01200e+03, 5.20840e+04, 8.00000e+04, 1.60000e+02, 7.26000e+02],\n",
       "       [2.01300e+03, 5.60280e+04, 1.50000e+05, 1.89000e+02, 6.68000e+02],\n",
       "       [2.01400e+03, 4.47760e+04, 2.24700e+05, 2.10000e+02, 5.92000e+02],\n",
       "       [2.01500e+03, 4.23400e+04, 3.80100e+05, 2.11000e+02, 3.84000e+02],\n",
       "       [2.01600e+03, 4.62840e+04, 5.06880e+05, 2.33000e+02, 2.95000e+02],\n",
       "       [2.01700e+03, 4.47760e+04, 8.46210e+05, 2.67000e+02, 2.21000e+02],\n",
       "       [2.01800e+03, 4.14120e+04, 1.43658e+06, 3.04000e+02, 1.81000e+02],\n",
       "       [2.01900e+03, 4.28040e+04, 1.70850e+06, 3.36000e+02, 1.57000e+02],\n",
       "       [2.02000e+03, 5.46000e+04, 2.26800e+06, 3.38000e+02, 1.37000e+02],\n",
       "       [2.02100e+03, 5.29000e+04, 4.79250e+06, 3.49000e+02, 1.32000e+02]])"
      ]
     },
     "execution_count": 83,
     "metadata": {},
     "output_type": "execute_result"
    }
   ],
   "source": [
    "X"
   ]
  },
  {
   "cell_type": "code",
   "execution_count": 85,
   "id": "d31b854c",
   "metadata": {},
   "outputs": [
    {
     "data": {
      "text/plain": [
       "array([37500, 37311, 36874, 37826, 37519, 38240, 38455, 38350, 38365,\n",
       "       40546, 44021, 49185], dtype=int64)"
      ]
     },
     "execution_count": 85,
     "metadata": {},
     "output_type": "execute_result"
    }
   ],
   "source": [
    "y"
   ]
  },
  {
   "cell_type": "markdown",
   "id": "ff95f25e",
   "metadata": {},
   "source": [
    "## Splitting the dataset"
   ]
  },
  {
   "cell_type": "code",
   "execution_count": 86,
   "id": "5499fa9b",
   "metadata": {},
   "outputs": [],
   "source": [
    "from sklearn.model_selection import train_test_split\n",
    "X_train, X_test, y_train, y_test = train_test_split(X, y, test_size=0.2, random_state=0)"
   ]
  },
  {
   "cell_type": "markdown",
   "id": "612bda00",
   "metadata": {},
   "source": [
    "## Fitting MLR in our model"
   ]
  },
  {
   "cell_type": "code",
   "execution_count": 87,
   "id": "c8910023",
   "metadata": {},
   "outputs": [
    {
     "data": {
      "text/plain": [
       "LinearRegression()"
      ]
     },
     "execution_count": 87,
     "metadata": {},
     "output_type": "execute_result"
    }
   ],
   "source": [
    "from sklearn.linear_model import LinearRegression\n",
    "regressor = LinearRegression()\n",
    "regressor.fit(X_train, y_train)"
   ]
  },
  {
   "cell_type": "markdown",
   "id": "edb77a8f",
   "metadata": {},
   "source": [
    "## Make Prediction"
   ]
  },
  {
   "cell_type": "code",
   "execution_count": 88,
   "id": "237b874d",
   "metadata": {},
   "outputs": [
    {
     "data": {
      "text/plain": [
       "array([38821.5738429 , 49866.67577636, 36746.36740653])"
      ]
     },
     "execution_count": 88,
     "metadata": {},
     "output_type": "execute_result"
    }
   ],
   "source": [
    "prediction = regressor.predict(X_test)\n",
    "prediction"
   ]
  },
  {
   "cell_type": "code",
   "execution_count": 89,
   "id": "343a4e01",
   "metadata": {},
   "outputs": [
    {
     "name": "stdout",
     "output_type": "stream",
     "text": [
      "Train score:  0.9416130967641753\n",
      "Test score:  0.9857675790296068\n"
     ]
    }
   ],
   "source": [
    "print(\"Train score: \", regressor.score(X_train, y_train))\n",
    "print(\"Test score: \", regressor.score(X_test, y_test))"
   ]
  },
  {
   "cell_type": "code",
   "execution_count": null,
   "id": "bbfb12b5",
   "metadata": {},
   "outputs": [],
   "source": []
  }
 ],
 "metadata": {
  "kernelspec": {
   "display_name": "Python 3 (ipykernel)",
   "language": "python",
   "name": "python3"
  },
  "language_info": {
   "codemirror_mode": {
    "name": "ipython",
    "version": 3
   },
   "file_extension": ".py",
   "mimetype": "text/x-python",
   "name": "python",
   "nbconvert_exporter": "python",
   "pygments_lexer": "ipython3",
   "version": "3.9.12"
  }
 },
 "nbformat": 4,
 "nbformat_minor": 5
}
